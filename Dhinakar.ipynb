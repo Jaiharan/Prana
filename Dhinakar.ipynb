{
 "cells": [
  {
   "cell_type": "code",
   "execution_count": 3,
   "metadata": {},
   "outputs": [],
   "source": [
    "import os \n",
    "import json"
   ]
  },
  {
   "cell_type": "code",
   "execution_count": 4,
   "metadata": {},
   "outputs": [],
   "source": [
    "data_dir = 'data'\n",
    "if not os.path.exists(data_dir): \n",
    "    os.makedirs(data_dir)"
   ]
  },
  {
   "cell_type": "code",
   "execution_count": 5,
   "metadata": {},
   "outputs": [],
   "source": [
    "patients_file = os.path.join(data_dir, 'patients.json') \n",
    "appointments_file = os.path.join(data_dir, 'appointments.json') \n",
    "feedback_file = os.path.join(data_dir, 'feedback.json')"
   ]
  },
  {
   "cell_type": "code",
   "execution_count": 6,
   "metadata": {},
   "outputs": [],
   "source": [
    "def load_data(file): \n",
    "    if os.path.exists(file): \n",
    "        with open(file, 'r') as f: \n",
    "            return json.load(f) \n",
    "    return []"
   ]
  },
  {
   "cell_type": "code",
   "execution_count": 7,
   "metadata": {},
   "outputs": [],
   "source": [
    "def save_data(file, data):\n",
    "    with open(file, 'w') as f: \n",
    "        json.dump(data, f, indent=4)"
   ]
  },
  {
   "cell_type": "code",
   "execution_count": 8,
   "metadata": {},
   "outputs": [],
   "source": [
    "def add_patient(name, email, phone): \n",
    "    patients = load_data(patients_file) \n",
    "    patient_id = len(patients) + 1 \n",
    "    save_data(patients_file, patients) \n",
    "    print(f\"Patient added: {Manoj}\")"
   ]
  },
  {
   "cell_type": "code",
   "execution_count": 9,
   "metadata": {},
   "outputs": [],
   "source": [
    "def add_appointment(patient_id, date): \n",
    "    appointments = load_data(appointments_file) \n",
    "    appointments.append({'patient_id': patient_id, 'date': date}) \n",
    "    save_data(appointments_file, appointments) \n",
    "    print(f\"Appointment added for patient {patient_id} on {date}\")"
   ]
  },
  {
   "cell_type": "code",
   "execution_count": 10,
   "metadata": {},
   "outputs": [],
   "source": [
    "def add_feedback(patient_id, content): \n",
    "    feedbacks = load_data(feedback_file) \n",
    "    feedbacks.append({'patient_id': patient_id, 'content': content}) \n",
    "    save_data(feedback_file, feedbacks) \n",
    "    print(f\"Feedback added for patient {patient_id}\") "
   ]
  },
  {
   "cell_type": "code",
   "execution_count": 11,
   "metadata": {},
   "outputs": [],
   "source": [
    "def main(): \n",
    "    while True: \n",
    "        print(\"\\nHealthcare CRM System\") \n",
    "        print(\"1. Add Patient\") \n",
    "        print(\"2. Schedule Appointment\") \n",
    "        print(\"3. Add Feedback\") \n",
    "        print(\"4. Exit\") \n",
    "        choice = input(\"Enter your choice: \") \n",
    "        if choice == '1': \n",
    "            name = input(\"Enter patient name: \") \n",
    "            email = input(\"Enter patient email: \") \n",
    "            phone = input(\"Enter patient phone: \") \n",
    "            add_patient(name, email, phone) \n",
    "        elif choice == '2': \n",
    "            patient_id = int(input(\"Enter patient ID: \")) \n",
    "            date = input(\"Enter appointment date (YYYY-MM-DD): \") \n",
    "            add_appointment(patient_id, date) \n",
    "        elif choice == '3':\n",
    "            patient_id = int(input(\"Enter patient ID: \")) \n",
    "            content = input(\"Enter feedback: \") \n",
    "            add_feedback(patient_id, content) \n",
    "        elif choice == '4': \n",
    "            break \n",
    "    else: \n",
    "            print(\"Invalid choice, please try again.\")"
   ]
  },
  {
   "cell_type": "code",
   "execution_count": null,
   "metadata": {},
   "outputs": [
    {
     "name": "stdout",
     "output_type": "stream",
     "text": [
      "\n",
      "Healthcare CRM System\n",
      "1. Add Patient\n",
      "2. Schedule Appointment\n",
      "3. Add Feedback\n",
      "4. Exit\n",
      "\n",
      "Healthcare CRM System\n",
      "1. Add Patient\n",
      "2. Schedule Appointment\n",
      "3. Add Feedback\n",
      "4. Exit\n"
     ]
    }
   ],
   "source": [
    "if __name__ == '__main__':\n",
    "    main()"
   ]
  }
 ],
 "metadata": {
  "kernelspec": {
   "display_name": "Python 3",
   "language": "python",
   "name": "python3"
  },
  "language_info": {
   "codemirror_mode": {
    "name": "ipython",
    "version": 3
   },
   "file_extension": ".py",
   "mimetype": "text/x-python",
   "name": "python",
   "nbconvert_exporter": "python",
   "pygments_lexer": "ipython3",
   "version": "3.12.1"
  }
 },
 "nbformat": 4,
 "nbformat_minor": 2
}
